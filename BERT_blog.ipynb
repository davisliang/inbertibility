{
 "cells": [
  {
   "cell_type": "code",
   "execution_count": 1,
   "metadata": {},
   "outputs": [
    {
     "name": "stderr",
     "output_type": "stream",
     "text": [
      "/anaconda3/lib/python3.6/site-packages/h5py/__init__.py:36: FutureWarning: Conversion of the second argument of issubdtype from `float` to `np.floating` is deprecated. In future, it will be treated as `np.float64 == np.dtype(float).type`.\n",
      "  from ._conv import register_converters as _register_converters\n"
     ]
    },
    {
     "data": {
      "text/plain": [
       "\"\\n\\nexport BERT_BASE_DIR='/Users/liadavis/Desktop/uncased_L-12_H-768_A-12'\\n\\npython extract_features.py   --input_file=./tmp/input_kitchen.txt   --output_file=./tmp/output_kitchen.jsonl   --vocab_file=$BERT_BASE_DIR/vocab.txt   --bert_config_file=$BERT_BASE_DIR/bert_config.json   --init_checkpoint=$BERT_BASE_DIR/bert_model.ckpt   --layers=-1,-2,-3,-4   --max_seq_length=128   --batch_size=8\\n\\n\""
      ]
     },
     "execution_count": 1,
     "metadata": {},
     "output_type": "execute_result"
    }
   ],
   "source": [
    "import json\n",
    "from pprint import pprint\n",
    "from mxnet import ndarray as nd\n",
    "import mxnet as mx\n",
    "\n",
    "# INSTRUCTIONS:\n",
    "# 1. install tensorflow\n",
    "# 2. git clone https://github.com/google-research/bert\n",
    "# 3. download model: https://storage.googleapis.com/bert_models/2018_10_18/uncased_L-12_H-768_A-12.zip\n",
    "# 4. run script below to extract BERT Representations\n",
    "# 5. run the rest of the code in the notebook to compute distances between representations\n",
    "\"\"\"\n",
    "\n",
    "python extract_features.py \\\n",
    "  --input_file=/PATH/TO/INPUT_TEXT_FILE.txt \\\n",
    "  --output_file=/PATH/TO/OUTPUT_TEXT_FILE.json \\\n",
    "  --vocab_file=/PATH/TO/VOCAB_FILE \\\n",
    "  --bert_config_file=/PATH/TO/BERT_CONFIG_FILE \\\n",
    "  --init_checkpoint=/PATH/TO/BERT_MODEL \\\n",
    "  --layers=-1,-2,-3,-4 \\\n",
    "  --max_seq_length=128 \\\n",
    "  --batch_size=8\n",
    "\n",
    "\"\"\"\n"
   ]
  },
  {
   "cell_type": "code",
   "execution_count": 2,
   "metadata": {},
   "outputs": [],
   "source": [
    "def cosine_dist(a, b):\n",
    "    \"\"\"\n",
    "    Compute cosine distance between NDArray a, NDArray b.\n",
    "    \"\"\"\n",
    "    d = mx.nd.dot(a, b)\n",
    "    a_norm = mx.nd.sqrt(mx.nd.sum(a*a))\n",
    "    b_norm = mx.nd.sqrt(mx.nd.sum(b*b))\n",
    "    dist = 1.0 - d / (a_norm * b_norm)\n",
    "    return dist.asscalar()\n",
    "\n",
    "\n",
    "baseline='/PATH/TO/BASE_DIRECTORY'\n"
   ]
  },
  {
   "cell_type": "code",
   "execution_count": 4,
   "metadata": {},
   "outputs": [],
   "source": [
    "# Extract representations from the final block (block 4).\n",
    "layer = 3\n",
    "\n",
    "# Load BERT-processed text documents\n",
    "data_emperor = json.load(open(baseline+'/output_emperor.jsonl','r'))\n",
    "emperor = nd.array(data_emperor['features'][1]['layers'][layer]['values'])\n",
    "\n",
    "data_king = json.load(open(baseline+'/output_king.jsonl','r'))\n",
    "king = nd.array(data_king['features'][1]['layers'][layer]['values'])\n",
    "\n",
    "data_queen = json.load(open(baseline+'/output_queen.jsonl','r'))\n",
    "queen = nd.array(data_queen['features'][1]['layers'][layer]['values'])\n",
    "\n",
    "data_man = json.load(open(baseline+'/output_man.jsonl','r'))\n",
    "man = nd.array(data_man['features'][1]['layers'][layer]['values'])\n",
    "\n",
    "data_woman = json.load(open(baseline+'/output_woman.jsonl','r'))\n",
    "woman = nd.array(data_woman['features'][1]['layers'][layer]['values'])\n",
    "\n",
    "data_refrigerator = json.load(open(baseline+'/output_refrigerator.jsonl','r'))\n",
    "refrigerator = nd.array(data_refrigerator['features'][1]['layers'][layer]['values'])\n",
    "\n",
    "data_cabinet = json.load(open(baseline+'/output_cabinet.jsonl','r'))\n",
    "cabinet = nd.array(data_cabinet['features'][1]['layers'][layer]['values'])\n",
    "\n",
    "data_microwave = json.load(open(baseline+'/output_microwave.jsonl','r'))\n",
    "microwave = nd.array(data_microwave['features'][1]['layers'][layer]['values'])\n",
    "\n",
    "data_kitchen = json.load(open(baseline+'/output_kitchen.jsonl','r'))\n",
    "kitchen = nd.array(data_kitchen['features'][1]['layers'][layer]['values'])\n",
    "\n",
    "\n",
    "\n",
    "\n",
    "data_the_man_passed_a_law = json.load(open(baseline+'/output_the_man_passed_a_law.jsonl','r'))\n",
    "the_man_passed_a_law = nd.array(data_the_man_passed_a_law['features'][2]['layers'][layer]['values'])\n",
    "\n",
    "data_the_woman_passed_a_law = json.load(open(baseline+'/output_the_woman_passed_a_law.jsonl','r'))\n",
    "the_woman_passed_a_law = nd.array(data_the_woman_passed_a_law['features'][2]['layers'][layer]['values'])\n",
    "\n",
    "data_the_king_passed_a_law = json.load(open(baseline+'/output_the_king_passed_a_law.jsonl','r'))\n",
    "the_king_passed_a_law = nd.array(data_the_king_passed_a_law['features'][2]['layers'][layer]['values'])\n",
    "\n",
    "data_the_queen_passed_a_law = json.load(open(baseline+'/output_the_queen_passed_a_law.jsonl','r'))\n",
    "the_queen_passed_a_law = nd.array(data_the_queen_passed_a_law['features'][2]['layers'][layer]['values'])\n",
    "\n",
    "data_the_refrigerator_passed_a_law = json.load(open(baseline+'/output_the_refrigerator_passed_a_law.jsonl','r'))\n",
    "the_refrigerator_passed_a_law = nd.array(data_the_refrigerator_passed_a_law['features'][2]['layers'][layer]['values'])\n",
    "\n",
    "data_the_microwave_passed_a_law = json.load(open(baseline+'/output_the_microwave_passed_a_law.jsonl','r'))\n",
    "the_microwave_passed_a_law = nd.array(data_the_microwave_passed_a_law['features'][2]['layers'][layer]['values'])\n",
    "\n",
    "\n",
    "\n",
    "data_he_heated_the_food_inside_the_microwave = json.load(open(baseline+'/output_he_heated_the_food_inside_the_microwave.jsonl','r'))\n",
    "he_heated_the_food_inside_the_microwave = nd.array(data_he_heated_the_food_inside_the_microwave['features'][7]['layers'][layer]['values'])\n",
    "\n",
    "data_he_kept_the_food_inside_the_refrigerator = json.load(open(baseline+'/output_he_kept_the_food_inside_the_refrigerator.jsonl','r'))\n",
    "he_kept_the_food_inside_the_refrigerator = nd.array(data_he_kept_the_food_inside_the_refrigerator['features'][7]['layers'][layer]['values'])\n",
    "\n",
    "data_the_refrigerator_is_cold = json.load(open(baseline+'/output_the_refrigerator_is_cold.jsonl','r'))\n",
    "the_refrigerator_is_cold = nd.array(data_the_refrigerator_is_cold['features'][2]['layers'][layer]['values'])\n",
    "\n",
    "data_the_refrigerator_is_in_the_kitchen = json.load(open(baseline+'/output_the_refrigerator_is_in_the_kitchen.jsonl','r'))\n",
    "the_refrigerator_is_in_the_kitchen = nd.array(data_the_refrigerator_is_in_the_kitchen['features'][2]['layers'][layer]['values']) \n",
    "\n",
    "\n",
    "\n",
    "data_math_is_a_simple_subject = json.load(open(baseline+'/output_math_is_a_simple_subject.jsonl','r'))\n",
    "math_is_a_simple_subject = nd.array(data_math_is_a_simple_subject['features'][1]['layers'][layer]['values']) \n",
    "\n",
    "data_math_is_a_difficult_subject = json.load(open(baseline+'/output_math_is_a_difficult_subject.jsonl','r'))\n",
    "math_is_a_difficult_subject = nd.array(data_math_is_a_difficult_subject['features'][1]['layers'][layer]['values']) \n",
    "\n",
    "data_math_is_a_hard_subject = json.load(open(baseline+'/output_math_is_a_hard_subject.jsonl','r'))\n",
    "math_is_a_hard_subject = nd.array(data_math_is_a_hard_subject['features'][1]['layers'][layer]['values']) \n",
    "\n",
    "\n",
    "\n",
    "data_math_is_a_simple_subject_adjective = json.load(open(baseline+'/output_math_is_a_simple_subject.jsonl','r'))\n",
    "math_is_a_simple_subject_adjective = nd.array(data_math_is_a_simple_subject['features'][4]['layers'][layer]['values']) \n",
    "\n",
    "data_math_is_a_difficult_subject_adjective = json.load(open(baseline+'/output_math_is_a_difficult_subject.jsonl','r'))\n",
    "math_is_a_difficult_subject_adjective = nd.array(data_math_is_a_difficult_subject['features'][4]['layers'][layer]['values']) \n",
    "\n",
    "data_math_is_a_hard_subject_adjective = json.load(open(baseline+'/output_math_is_a_hard_subject.jsonl','r'))\n",
    "math_is_a_hard_subject_adjective = nd.array(data_math_is_a_hard_subject['features'][4]['layers'][layer]['values']) \n",
    "\n",
    "\n",
    "\n",
    "\n",
    "data_pie = json.load(open(baseline+'/output_pie.jsonl','r'))\n",
    "pie = nd.array(data_pie['features'][1]['layers'][layer]['values']) \n",
    "\n",
    "data_the_pie_ate_a_man = json.load(open(baseline+'/output_the_pie_ate_a_man.jsonl','r'))\n",
    "the_pie_ate_a_man = nd.array(data_the_pie_ate_a_man['features'][2]['layers'][layer]['values']) \n",
    "\n",
    "data_the_man_ate_a_pie = json.load(open(baseline+'/output_the_man_ate_a_pie.jsonl','r'))\n",
    "the_man_ate_a_pie = nd.array(data_the_man_ate_a_pie['features'][5]['layers'][layer]['values']) \n",
    "\n",
    "data_the_man_threw_a_pie = json.load(open(baseline+'/output_the_man_threw_a_pie.jsonl','r'))\n",
    "the_man_threw_a_pie = nd.array(data_the_man_threw_a_pie['features'][5]['layers'][layer]['values']) \n",
    "\n",
    "data_the_pie_was_delicious = json.load(open(baseline+'/output_the_pie_was_delicious.jsonl','r'))\n",
    "the_pie_was_delicious = nd.array(data_the_pie_was_delicious['features'][2]['layers'][layer]['values']) "
   ]
  },
  {
   "cell_type": "code",
   "execution_count": null,
   "metadata": {},
   "outputs": [],
   "source": []
  },
  {
   "cell_type": "code",
   "execution_count": 202,
   "metadata": {},
   "outputs": [
    {
     "name": "stdout",
     "output_type": "stream",
     "text": [
      "king vs. emperor:          0.28484726\n",
      "king vs. queen:            0.1267727\n",
      "king-man+woman vs. queen:  0.2131545\n"
     ]
    }
   ],
   "source": [
    "# comparing pairs (layer 4)\n",
    "print(\"king vs. emperor:         \",cosine_dist(king, emperor))\n",
    "print(\"king vs. queen:           \",cosine_dist(king, queen))\n",
    "print(\"king-man+woman vs. queen: \",cosine_dist(king-man+woman, queen))\n"
   ]
  },
  {
   "cell_type": "code",
   "execution_count": 205,
   "metadata": {},
   "outputs": [
    {
     "name": "stdout",
     "output_type": "stream",
     "text": [
      "king vs. emperor:          0.30509514\n",
      "king vs. queen:            0.13561422\n",
      "king-man+woman vs. queen:  0.25745213\n"
     ]
    }
   ],
   "source": [
    "# comparing pairs (layer 1)\n",
    "print(\"king vs. emperor:         \",cosine_dist(king, emperor))\n",
    "print(\"king vs. queen:           \",cosine_dist(king, queen))\n",
    "print(\"king-man+woman vs. queen: \",cosine_dist(king-man+woman, queen))\n"
   ]
  },
  {
   "cell_type": "code",
   "execution_count": 208,
   "metadata": {},
   "outputs": [
    {
     "name": "stdout",
     "output_type": "stream",
     "text": [
      "refrigerator vs. refrigerator (S1 vs. S2):  0.4235099\n",
      "refrigerator vs. refrigerator (S2 vs. S3):  0.0814414\n",
      "refrigerator vs. refrigerator (S2 vs. S4):  0.31935948\n",
      "refrigerator vs. refrigerator (S2 vs. S5):  0.20285994\n"
     ]
    }
   ],
   "source": [
    "# comparing in context (layer 4)\n",
    "print(\"refrigerator vs. refrigerator (S1 vs. S2): \",cosine_dist(the_refrigerator_is_in_the_kitchen, refrigerator))\n",
    "print(\"refrigerator vs. refrigerator (S2 vs. S3): \",cosine_dist(the_refrigerator_is_in_the_kitchen, the_refrigerator_is_cold))\n",
    "print(\"refrigerator vs. refrigerator (S2 vs. S4): \",cosine_dist(the_refrigerator_is_in_the_kitchen, he_kept_the_food_inside_the_refrigerator))\n",
    "print(\"refrigerator vs. refrigerator (S2 vs. S5): \",cosine_dist(the_refrigerator_is_in_the_kitchen, the_refrigerator_passed_a_law))\n"
   ]
  },
  {
   "cell_type": "code",
   "execution_count": 181,
   "metadata": {},
   "outputs": [
    {
     "name": "stdout",
     "output_type": "stream",
     "text": [
      "refrigerator vs. refrigerator (against base):  0.44553757\n",
      "refrigerator vs. refrigerator (similar context):  0.12825513\n",
      "refrigerator vs. refrigerator (slightly different context):  0.3777538\n",
      "refrigerator vs. refrigerator (very different context):  0.29374194\n"
     ]
    }
   ],
   "source": [
    "# comparing in context (layer 1)\n",
    "print(\"refrigerator vs. refrigerator (against base): \",cosine_dist(the_refrigerator_is_in_the_kitchen, refrigerator))\n",
    "print(\"refrigerator vs. refrigerator (similar context): \",cosine_dist(the_refrigerator_is_in_the_kitchen, the_refrigerator_is_cold))\n",
    "print(\"refrigerator vs. refrigerator (slightly different context): \",cosine_dist(the_refrigerator_is_in_the_kitchen, he_kept_the_food_inside_the_refrigerator))\n",
    "print(\"refrigerator vs. refrigerator (very different context): \",cosine_dist(the_refrigerator_is_in_the_kitchen, the_refrigerator_passed_a_law))\n"
   ]
  },
  {
   "cell_type": "code",
   "execution_count": 209,
   "metadata": {},
   "outputs": [
    {
     "name": "stdout",
     "output_type": "stream",
     "text": [
      "king vs. queen (context):            0.19967937\n",
      "king-man+woman vs. queen (context):  0.18542266\n"
     ]
    }
   ],
   "source": [
    "# comparing pairs, in context (layer 4)\n",
    "print(\"king vs. queen (context):           \",cosine_dist(the_king_passed_a_law, the_queen_passed_a_law))\n",
    "print(\"king-man+woman vs. queen (context): \",cosine_dist(the_king_passed_a_law-the_man_passed_a_law+the_woman_passed_a_law, the_queen_passed_a_law))\n"
   ]
  },
  {
   "cell_type": "code",
   "execution_count": 186,
   "metadata": {},
   "outputs": [
    {
     "name": "stdout",
     "output_type": "stream",
     "text": [
      "king vs. queen (context):  0.2464686\n",
      "king-man+woman vs. queen (context):  0.20663726\n"
     ]
    }
   ],
   "source": [
    "# comparing pairs, in context (layer 1)\n",
    "print(\"king vs. queen (context): \",cosine_dist(the_king_passed_a_law, the_queen_passed_a_law))\n",
    "print(\"king-man+woman vs. queen (context): \",cosine_dist(the_king_passed_a_law-the_man_passed_a_law+the_woman_passed_a_law, the_queen_passed_a_law))\n",
    "\n"
   ]
  },
  {
   "cell_type": "code",
   "execution_count": 212,
   "metadata": {},
   "outputs": [
    {
     "name": "stdout",
     "output_type": "stream",
     "text": [
      "difficult vs. simple:  0.30460542\n",
      "difficult vs. hard:    0.10734016\n"
     ]
    }
   ],
   "source": [
    "# comparing synonyms and antonyms in context\n",
    "print(\"difficult vs. simple: \", cosine_dist(math_is_a_difficult_subject_adjective,math_is_a_simple_subject_adjective))\n",
    "print(\"difficult vs. hard:   \" , cosine_dist(math_is_a_difficult_subject_adjective,math_is_a_hard_subject_adjective))"
   ]
  },
  {
   "cell_type": "code",
   "execution_count": 213,
   "metadata": {},
   "outputs": [
    {
     "name": "stdout",
     "output_type": "stream",
     "text": [
      "math (difficult) vs. math (simple): 0.03661871\n",
      "math (difficult) vs. math (hard):   0.016104817\n"
     ]
    }
   ],
   "source": [
    "# subject shift\n",
    "print(\"math (difficult) vs. math (simple):\", cosine_dist(math_is_a_difficult_subject,math_is_a_simple_subject))\n",
    "print(\"math (difficult) vs. math (hard):  \", cosine_dist(math_is_a_difficult_subject,math_is_a_hard_subject))"
   ]
  },
  {
   "cell_type": "code",
   "execution_count": 5,
   "metadata": {},
   "outputs": [
    {
     "name": "stdout",
     "output_type": "stream",
     "text": [
      "pie vs. pie (S1 vs. S2):  0.28746992\n",
      "pie vs. pie (S2 vs. S3):  0.057210565\n",
      "pie vs. pie (S2 vs. S4):  0.32872385\n",
      "pie vs. pie (S2 vs. S5)):  0.3770395\n"
     ]
    }
   ],
   "source": [
    "# comparing in context (layer 1)\n",
    "print(\"pie vs. pie (S1 vs. S2): \",cosine_dist(pie, the_man_ate_a_pie))\n",
    "print(\"pie vs. pie (S2 vs. S3): \",cosine_dist(the_man_ate_a_pie, the_man_threw_a_pie))\n",
    "print(\"pie vs. pie (S2 vs. S4): \",cosine_dist(the_man_ate_a_pie, the_pie_was_delicious))\n",
    "print(\"pie vs. pie (S2 vs. S5)): \",cosine_dist(the_man_ate_a_pie, the_pie_ate_a_man))"
   ]
  },
  {
   "cell_type": "code",
   "execution_count": null,
   "metadata": {},
   "outputs": [],
   "source": []
  },
  {
   "cell_type": "code",
   "execution_count": null,
   "metadata": {},
   "outputs": [],
   "source": []
  },
  {
   "cell_type": "code",
   "execution_count": null,
   "metadata": {},
   "outputs": [],
   "source": []
  },
  {
   "cell_type": "code",
   "execution_count": null,
   "metadata": {},
   "outputs": [],
   "source": []
  },
  {
   "cell_type": "code",
   "execution_count": null,
   "metadata": {},
   "outputs": [],
   "source": []
  },
  {
   "cell_type": "code",
   "execution_count": null,
   "metadata": {},
   "outputs": [],
   "source": []
  },
  {
   "cell_type": "code",
   "execution_count": null,
   "metadata": {},
   "outputs": [],
   "source": []
  },
  {
   "cell_type": "code",
   "execution_count": null,
   "metadata": {},
   "outputs": [],
   "source": []
  },
  {
   "cell_type": "code",
   "execution_count": null,
   "metadata": {},
   "outputs": [],
   "source": []
  },
  {
   "cell_type": "code",
   "execution_count": null,
   "metadata": {},
   "outputs": [],
   "source": []
  },
  {
   "cell_type": "code",
   "execution_count": null,
   "metadata": {},
   "outputs": [],
   "source": []
  }
 ],
 "metadata": {
  "kernelspec": {
   "display_name": "Python 3",
   "language": "python",
   "name": "python3"
  },
  "language_info": {
   "codemirror_mode": {
    "name": "ipython",
    "version": 3
   },
   "file_extension": ".py",
   "mimetype": "text/x-python",
   "name": "python",
   "nbconvert_exporter": "python",
   "pygments_lexer": "ipython3",
   "version": "3.6.4"
  }
 },
 "nbformat": 4,
 "nbformat_minor": 2
}
